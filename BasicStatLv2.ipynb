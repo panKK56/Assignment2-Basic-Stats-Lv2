{
  "nbformat": 4,
  "nbformat_minor": 0,
  "metadata": {
    "colab": {
      "provenance": [],
      "toc_visible": true
    },
    "kernelspec": {
      "name": "python3",
      "display_name": "Python 3"
    },
    "language_info": {
      "name": "python"
    }
  },
  "cells": [
    {
      "cell_type": "code",
      "execution_count": null,
      "metadata": {
        "id": "Pr3laq6D5pN3"
      },
      "outputs": [],
      "source": [
        "import pandas as pd\n",
        "import numpy as np\n",
        "from scipy import stats\n",
        "import matplotlib.pyplot as plt\n",
        "import seaborn as sns"
      ]
    },
    {
      "cell_type": "code",
      "source": [
        "# Q1 plot graph\n",
        "data = {\n",
        "    'Company': ['Allied Signal', 'Bankers Trust', 'General Mills', 'ITT Industries',\n",
        "                'J.P.Morgan & Co.', 'Lehman Brothers', 'Marriott', 'MCI',\n",
        "                'Merrill Lynch', 'Microsoft', 'Morgan Stanley', 'Sun Microsystems',\n",
        "                'Travelers', 'US Airways', 'Warner-Lambert'],\n",
        "    'Percentage': [24.23, 25.53, 25.41, 24.14, 29.62, 28.25, 25.81, 24.39,\n",
        "                   40.26, 32.95, 91.36, 25.99, 39.42, 26.71, 35.00]\n",
        "}\n"
      ],
      "metadata": {
        "id": "pH2lCg0453qx"
      },
      "execution_count": null,
      "outputs": []
    },
    {
      "cell_type": "code",
      "source": [
        "df=pd.DataFrame(data)\n",
        "df"
      ],
      "metadata": {
        "colab": {
          "base_uri": "https://localhost:8080/",
          "height": 519
        },
        "id": "fZT6Z_DX7iOW",
        "outputId": "a47700c2-fa8f-455b-b9b2-8b5e30a48271"
      },
      "execution_count": null,
      "outputs": [
        {
          "output_type": "execute_result",
          "data": {
            "text/plain": [
              "             Company  Percentage\n",
              "0      Allied Signal       24.23\n",
              "1      Bankers Trust       25.53\n",
              "2      General Mills       25.41\n",
              "3     ITT Industries       24.14\n",
              "4   J.P.Morgan & Co.       29.62\n",
              "5    Lehman Brothers       28.25\n",
              "6           Marriott       25.81\n",
              "7                MCI       24.39\n",
              "8      Merrill Lynch       40.26\n",
              "9          Microsoft       32.95\n",
              "10    Morgan Stanley       91.36\n",
              "11  Sun Microsystems       25.99\n",
              "12         Travelers       39.42\n",
              "13        US Airways       26.71\n",
              "14    Warner-Lambert       35.00"
            ],
            "text/html": [
              "\n",
              "  <div id=\"df-a1b26fbe-d27b-4b39-a45b-2b47ffac38a6\" class=\"colab-df-container\">\n",
              "    <div>\n",
              "<style scoped>\n",
              "    .dataframe tbody tr th:only-of-type {\n",
              "        vertical-align: middle;\n",
              "    }\n",
              "\n",
              "    .dataframe tbody tr th {\n",
              "        vertical-align: top;\n",
              "    }\n",
              "\n",
              "    .dataframe thead th {\n",
              "        text-align: right;\n",
              "    }\n",
              "</style>\n",
              "<table border=\"1\" class=\"dataframe\">\n",
              "  <thead>\n",
              "    <tr style=\"text-align: right;\">\n",
              "      <th></th>\n",
              "      <th>Company</th>\n",
              "      <th>Percentage</th>\n",
              "    </tr>\n",
              "  </thead>\n",
              "  <tbody>\n",
              "    <tr>\n",
              "      <th>0</th>\n",
              "      <td>Allied Signal</td>\n",
              "      <td>24.23</td>\n",
              "    </tr>\n",
              "    <tr>\n",
              "      <th>1</th>\n",
              "      <td>Bankers Trust</td>\n",
              "      <td>25.53</td>\n",
              "    </tr>\n",
              "    <tr>\n",
              "      <th>2</th>\n",
              "      <td>General Mills</td>\n",
              "      <td>25.41</td>\n",
              "    </tr>\n",
              "    <tr>\n",
              "      <th>3</th>\n",
              "      <td>ITT Industries</td>\n",
              "      <td>24.14</td>\n",
              "    </tr>\n",
              "    <tr>\n",
              "      <th>4</th>\n",
              "      <td>J.P.Morgan &amp; Co.</td>\n",
              "      <td>29.62</td>\n",
              "    </tr>\n",
              "    <tr>\n",
              "      <th>5</th>\n",
              "      <td>Lehman Brothers</td>\n",
              "      <td>28.25</td>\n",
              "    </tr>\n",
              "    <tr>\n",
              "      <th>6</th>\n",
              "      <td>Marriott</td>\n",
              "      <td>25.81</td>\n",
              "    </tr>\n",
              "    <tr>\n",
              "      <th>7</th>\n",
              "      <td>MCI</td>\n",
              "      <td>24.39</td>\n",
              "    </tr>\n",
              "    <tr>\n",
              "      <th>8</th>\n",
              "      <td>Merrill Lynch</td>\n",
              "      <td>40.26</td>\n",
              "    </tr>\n",
              "    <tr>\n",
              "      <th>9</th>\n",
              "      <td>Microsoft</td>\n",
              "      <td>32.95</td>\n",
              "    </tr>\n",
              "    <tr>\n",
              "      <th>10</th>\n",
              "      <td>Morgan Stanley</td>\n",
              "      <td>91.36</td>\n",
              "    </tr>\n",
              "    <tr>\n",
              "      <th>11</th>\n",
              "      <td>Sun Microsystems</td>\n",
              "      <td>25.99</td>\n",
              "    </tr>\n",
              "    <tr>\n",
              "      <th>12</th>\n",
              "      <td>Travelers</td>\n",
              "      <td>39.42</td>\n",
              "    </tr>\n",
              "    <tr>\n",
              "      <th>13</th>\n",
              "      <td>US Airways</td>\n",
              "      <td>26.71</td>\n",
              "    </tr>\n",
              "    <tr>\n",
              "      <th>14</th>\n",
              "      <td>Warner-Lambert</td>\n",
              "      <td>35.00</td>\n",
              "    </tr>\n",
              "  </tbody>\n",
              "</table>\n",
              "</div>\n",
              "    <div class=\"colab-df-buttons\">\n",
              "\n",
              "  <div class=\"colab-df-container\">\n",
              "    <button class=\"colab-df-convert\" onclick=\"convertToInteractive('df-a1b26fbe-d27b-4b39-a45b-2b47ffac38a6')\"\n",
              "            title=\"Convert this dataframe to an interactive table.\"\n",
              "            style=\"display:none;\">\n",
              "\n",
              "  <svg xmlns=\"http://www.w3.org/2000/svg\" height=\"24px\" viewBox=\"0 -960 960 960\">\n",
              "    <path d=\"M120-120v-720h720v720H120Zm60-500h600v-160H180v160Zm220 220h160v-160H400v160Zm0 220h160v-160H400v160ZM180-400h160v-160H180v160Zm440 0h160v-160H620v160ZM180-180h160v-160H180v160Zm440 0h160v-160H620v160Z\"/>\n",
              "  </svg>\n",
              "    </button>\n",
              "\n",
              "  <style>\n",
              "    .colab-df-container {\n",
              "      display:flex;\n",
              "      gap: 12px;\n",
              "    }\n",
              "\n",
              "    .colab-df-convert {\n",
              "      background-color: #E8F0FE;\n",
              "      border: none;\n",
              "      border-radius: 50%;\n",
              "      cursor: pointer;\n",
              "      display: none;\n",
              "      fill: #1967D2;\n",
              "      height: 32px;\n",
              "      padding: 0 0 0 0;\n",
              "      width: 32px;\n",
              "    }\n",
              "\n",
              "    .colab-df-convert:hover {\n",
              "      background-color: #E2EBFA;\n",
              "      box-shadow: 0px 1px 2px rgba(60, 64, 67, 0.3), 0px 1px 3px 1px rgba(60, 64, 67, 0.15);\n",
              "      fill: #174EA6;\n",
              "    }\n",
              "\n",
              "    .colab-df-buttons div {\n",
              "      margin-bottom: 4px;\n",
              "    }\n",
              "\n",
              "    [theme=dark] .colab-df-convert {\n",
              "      background-color: #3B4455;\n",
              "      fill: #D2E3FC;\n",
              "    }\n",
              "\n",
              "    [theme=dark] .colab-df-convert:hover {\n",
              "      background-color: #434B5C;\n",
              "      box-shadow: 0px 1px 3px 1px rgba(0, 0, 0, 0.15);\n",
              "      filter: drop-shadow(0px 1px 2px rgba(0, 0, 0, 0.3));\n",
              "      fill: #FFFFFF;\n",
              "    }\n",
              "  </style>\n",
              "\n",
              "    <script>\n",
              "      const buttonEl =\n",
              "        document.querySelector('#df-a1b26fbe-d27b-4b39-a45b-2b47ffac38a6 button.colab-df-convert');\n",
              "      buttonEl.style.display =\n",
              "        google.colab.kernel.accessAllowed ? 'block' : 'none';\n",
              "\n",
              "      async function convertToInteractive(key) {\n",
              "        const element = document.querySelector('#df-a1b26fbe-d27b-4b39-a45b-2b47ffac38a6');\n",
              "        const dataTable =\n",
              "          await google.colab.kernel.invokeFunction('convertToInteractive',\n",
              "                                                    [key], {});\n",
              "        if (!dataTable) return;\n",
              "\n",
              "        const docLinkHtml = 'Like what you see? Visit the ' +\n",
              "          '<a target=\"_blank\" href=https://colab.research.google.com/notebooks/data_table.ipynb>data table notebook</a>'\n",
              "          + ' to learn more about interactive tables.';\n",
              "        element.innerHTML = '';\n",
              "        dataTable['output_type'] = 'display_data';\n",
              "        await google.colab.output.renderOutput(dataTable, element);\n",
              "        const docLink = document.createElement('div');\n",
              "        docLink.innerHTML = docLinkHtml;\n",
              "        element.appendChild(docLink);\n",
              "      }\n",
              "    </script>\n",
              "  </div>\n",
              "\n",
              "\n",
              "<div id=\"df-17f746b7-7a1e-417c-986e-c5f2a074fff1\">\n",
              "  <button class=\"colab-df-quickchart\" onclick=\"quickchart('df-17f746b7-7a1e-417c-986e-c5f2a074fff1')\"\n",
              "            title=\"Suggest charts\"\n",
              "            style=\"display:none;\">\n",
              "\n",
              "<svg xmlns=\"http://www.w3.org/2000/svg\" height=\"24px\"viewBox=\"0 0 24 24\"\n",
              "     width=\"24px\">\n",
              "    <g>\n",
              "        <path d=\"M19 3H5c-1.1 0-2 .9-2 2v14c0 1.1.9 2 2 2h14c1.1 0 2-.9 2-2V5c0-1.1-.9-2-2-2zM9 17H7v-7h2v7zm4 0h-2V7h2v10zm4 0h-2v-4h2v4z\"/>\n",
              "    </g>\n",
              "</svg>\n",
              "  </button>\n",
              "\n",
              "<style>\n",
              "  .colab-df-quickchart {\n",
              "      --bg-color: #E8F0FE;\n",
              "      --fill-color: #1967D2;\n",
              "      --hover-bg-color: #E2EBFA;\n",
              "      --hover-fill-color: #174EA6;\n",
              "      --disabled-fill-color: #AAA;\n",
              "      --disabled-bg-color: #DDD;\n",
              "  }\n",
              "\n",
              "  [theme=dark] .colab-df-quickchart {\n",
              "      --bg-color: #3B4455;\n",
              "      --fill-color: #D2E3FC;\n",
              "      --hover-bg-color: #434B5C;\n",
              "      --hover-fill-color: #FFFFFF;\n",
              "      --disabled-bg-color: #3B4455;\n",
              "      --disabled-fill-color: #666;\n",
              "  }\n",
              "\n",
              "  .colab-df-quickchart {\n",
              "    background-color: var(--bg-color);\n",
              "    border: none;\n",
              "    border-radius: 50%;\n",
              "    cursor: pointer;\n",
              "    display: none;\n",
              "    fill: var(--fill-color);\n",
              "    height: 32px;\n",
              "    padding: 0;\n",
              "    width: 32px;\n",
              "  }\n",
              "\n",
              "  .colab-df-quickchart:hover {\n",
              "    background-color: var(--hover-bg-color);\n",
              "    box-shadow: 0 1px 2px rgba(60, 64, 67, 0.3), 0 1px 3px 1px rgba(60, 64, 67, 0.15);\n",
              "    fill: var(--button-hover-fill-color);\n",
              "  }\n",
              "\n",
              "  .colab-df-quickchart-complete:disabled,\n",
              "  .colab-df-quickchart-complete:disabled:hover {\n",
              "    background-color: var(--disabled-bg-color);\n",
              "    fill: var(--disabled-fill-color);\n",
              "    box-shadow: none;\n",
              "  }\n",
              "\n",
              "  .colab-df-spinner {\n",
              "    border: 2px solid var(--fill-color);\n",
              "    border-color: transparent;\n",
              "    border-bottom-color: var(--fill-color);\n",
              "    animation:\n",
              "      spin 1s steps(1) infinite;\n",
              "  }\n",
              "\n",
              "  @keyframes spin {\n",
              "    0% {\n",
              "      border-color: transparent;\n",
              "      border-bottom-color: var(--fill-color);\n",
              "      border-left-color: var(--fill-color);\n",
              "    }\n",
              "    20% {\n",
              "      border-color: transparent;\n",
              "      border-left-color: var(--fill-color);\n",
              "      border-top-color: var(--fill-color);\n",
              "    }\n",
              "    30% {\n",
              "      border-color: transparent;\n",
              "      border-left-color: var(--fill-color);\n",
              "      border-top-color: var(--fill-color);\n",
              "      border-right-color: var(--fill-color);\n",
              "    }\n",
              "    40% {\n",
              "      border-color: transparent;\n",
              "      border-right-color: var(--fill-color);\n",
              "      border-top-color: var(--fill-color);\n",
              "    }\n",
              "    60% {\n",
              "      border-color: transparent;\n",
              "      border-right-color: var(--fill-color);\n",
              "    }\n",
              "    80% {\n",
              "      border-color: transparent;\n",
              "      border-right-color: var(--fill-color);\n",
              "      border-bottom-color: var(--fill-color);\n",
              "    }\n",
              "    90% {\n",
              "      border-color: transparent;\n",
              "      border-bottom-color: var(--fill-color);\n",
              "    }\n",
              "  }\n",
              "</style>\n",
              "\n",
              "  <script>\n",
              "    async function quickchart(key) {\n",
              "      const quickchartButtonEl =\n",
              "        document.querySelector('#' + key + ' button');\n",
              "      quickchartButtonEl.disabled = true;  // To prevent multiple clicks.\n",
              "      quickchartButtonEl.classList.add('colab-df-spinner');\n",
              "      try {\n",
              "        const charts = await google.colab.kernel.invokeFunction(\n",
              "            'suggestCharts', [key], {});\n",
              "      } catch (error) {\n",
              "        console.error('Error during call to suggestCharts:', error);\n",
              "      }\n",
              "      quickchartButtonEl.classList.remove('colab-df-spinner');\n",
              "      quickchartButtonEl.classList.add('colab-df-quickchart-complete');\n",
              "    }\n",
              "    (() => {\n",
              "      let quickchartButtonEl =\n",
              "        document.querySelector('#df-17f746b7-7a1e-417c-986e-c5f2a074fff1 button');\n",
              "      quickchartButtonEl.style.display =\n",
              "        google.colab.kernel.accessAllowed ? 'block' : 'none';\n",
              "    })();\n",
              "  </script>\n",
              "</div>\n",
              "\n",
              "  <div id=\"id_2665f47c-73ef-445f-a1e7-4f8516e21b1a\">\n",
              "    <style>\n",
              "      .colab-df-generate {\n",
              "        background-color: #E8F0FE;\n",
              "        border: none;\n",
              "        border-radius: 50%;\n",
              "        cursor: pointer;\n",
              "        display: none;\n",
              "        fill: #1967D2;\n",
              "        height: 32px;\n",
              "        padding: 0 0 0 0;\n",
              "        width: 32px;\n",
              "      }\n",
              "\n",
              "      .colab-df-generate:hover {\n",
              "        background-color: #E2EBFA;\n",
              "        box-shadow: 0px 1px 2px rgba(60, 64, 67, 0.3), 0px 1px 3px 1px rgba(60, 64, 67, 0.15);\n",
              "        fill: #174EA6;\n",
              "      }\n",
              "\n",
              "      [theme=dark] .colab-df-generate {\n",
              "        background-color: #3B4455;\n",
              "        fill: #D2E3FC;\n",
              "      }\n",
              "\n",
              "      [theme=dark] .colab-df-generate:hover {\n",
              "        background-color: #434B5C;\n",
              "        box-shadow: 0px 1px 3px 1px rgba(0, 0, 0, 0.15);\n",
              "        filter: drop-shadow(0px 1px 2px rgba(0, 0, 0, 0.3));\n",
              "        fill: #FFFFFF;\n",
              "      }\n",
              "    </style>\n",
              "    <button class=\"colab-df-generate\" onclick=\"generateWithVariable('df')\"\n",
              "            title=\"Generate code using this dataframe.\"\n",
              "            style=\"display:none;\">\n",
              "\n",
              "  <svg xmlns=\"http://www.w3.org/2000/svg\" height=\"24px\"viewBox=\"0 0 24 24\"\n",
              "       width=\"24px\">\n",
              "    <path d=\"M7,19H8.4L18.45,9,17,7.55,7,17.6ZM5,21V16.75L18.45,3.32a2,2,0,0,1,2.83,0l1.4,1.43a1.91,1.91,0,0,1,.58,1.4,1.91,1.91,0,0,1-.58,1.4L9.25,21ZM18.45,9,17,7.55Zm-12,3A5.31,5.31,0,0,0,4.9,8.1,5.31,5.31,0,0,0,1,6.5,5.31,5.31,0,0,0,4.9,4.9,5.31,5.31,0,0,0,6.5,1,5.31,5.31,0,0,0,8.1,4.9,5.31,5.31,0,0,0,12,6.5,5.46,5.46,0,0,0,6.5,12Z\"/>\n",
              "  </svg>\n",
              "    </button>\n",
              "    <script>\n",
              "      (() => {\n",
              "      const buttonEl =\n",
              "        document.querySelector('#id_2665f47c-73ef-445f-a1e7-4f8516e21b1a button.colab-df-generate');\n",
              "      buttonEl.style.display =\n",
              "        google.colab.kernel.accessAllowed ? 'block' : 'none';\n",
              "\n",
              "      buttonEl.onclick = () => {\n",
              "        google.colab.notebook.generateWithVariable('df');\n",
              "      }\n",
              "      })();\n",
              "    </script>\n",
              "  </div>\n",
              "\n",
              "    </div>\n",
              "  </div>\n"
            ]
          },
          "metadata": {},
          "execution_count": 3
        }
      ]
    },
    {
      "cell_type": "code",
      "source": [
        "plt.figure(figsize=(12,6))\n",
        "sns.barplot(y=df['Company'],x=df['Percentage'],color='skyblue',orient='horz')\n",
        "plt.title('Percentage of Ownership')\n",
        "plt.show()"
      ],
      "metadata": {
        "colab": {
          "base_uri": "https://localhost:8080/",
          "height": 564
        },
        "id": "u-4-klvh7ovI",
        "outputId": "c3663109-1203-4a37-dd8d-89ca3eead946"
      },
      "execution_count": null,
      "outputs": [
        {
          "output_type": "display_data",
          "data": {
            "text/plain": [
              "<Figure size 1200x600 with 1 Axes>"
            ],
            "image/png": "[encoded data removed]"
          },
          "metadata": {}
        }
      ]
    },
    {
      "cell_type": "code",
      "source": [
        "# calculating mran variance and std\n",
        "mean = np.mean(df['Percentage'])\n",
        "variance = np.var(df['Percentage'])\n",
        "std_dev = np.std(df['Percentage'])\n",
        "\n",
        "print(f\"Mean: {mean}\")\n",
        "print(f\"Variance: {variance}\")\n",
        "print(f\"Standard Deviation: {std_dev}\")"
      ],
      "metadata": {
        "colab": {
          "base_uri": "https://localhost:8080/"
        },
        "id": "rHRPp2Fh8cVG",
        "outputId": "61b90c48-017c-4b22-e880-2cae2f74cf5b"
      },
      "execution_count": null,
      "outputs": [
        {
          "output_type": "stream",
          "name": "stdout",
          "text": [
            "Mean: 33.27133333333333\n",
            "Variance: 268.00350488888887\n",
            "Standard Deviation: 16.370812590976932\n"
          ]
        }
      ]
    },
    {
      "cell_type": "markdown",
      "source": [
        "# **Set 2**"
      ],
      "metadata": {
        "id": "uqBjxwKaWPgV"
      }
    },
    {
      "cell_type": "markdown",
      "source": [
        "## **Question 1**\n",
        "1.\tThe time required for servicing transmissions is normally distributed with  = 45 minutes and  = 8 minutes. The service manager plans to have work begin on the transmission of a customer’s car 10 minutes after the car is dropped off and the customer is told that the car will be ready within 1 hour from drop-off. What is the probability that the service manager cannot meet his commitment?"
      ],
      "metadata": {
        "id": "1nuKm_pefxjB"
      }
    },
    {
      "cell_type": "code",
      "source": [
        "\n",
        "mu=45 # average time required for service\n",
        "std=8 # standard deviation of population\n",
        "x=50 # the probability of service manager cannot meet commitment p(x>50)\n",
        "\n"
      ],
      "metadata": {
        "id": "n-66N0nOWTBA"
      },
      "execution_count": null,
      "outputs": []
    },
    {
      "cell_type": "code",
      "source": [
        "# Standard deviation is known go for z test\n",
        "z_val=(x-mu)/std\n",
        "z_val"
      ],
      "metadata": {
        "colab": {
          "base_uri": "https://localhost:8080/"
        },
        "id": "2J7go6XhXLP4",
        "outputId": "eae59398-dd91-434e-f1a8-ea01c048b574"
      },
      "execution_count": null,
      "outputs": [
        {
          "output_type": "execute_result",
          "data": {
            "text/plain": [
              "0.625"
            ]
          },
          "metadata": {},
          "execution_count": 9
        }
      ]
    },
    {
      "cell_type": "code",
      "source": [
        "p_val=1-stats.norm.cdf(z_val)\n",
        "print('Probability that the service manager cannot meet his commitment : ',p_val)"
      ],
      "metadata": {
        "colab": {
          "base_uri": "https://localhost:8080/"
        },
        "id": "93RUaKPiXbfx",
        "outputId": "0f3ba1f3-31dd-4883-c7d8-e293def93450"
      },
      "execution_count": null,
      "outputs": [
        {
          "output_type": "stream",
          "name": "stdout",
          "text": [
            "Probability that the service manager cannot meet his commitment :  0.26598552904870054\n"
          ]
        }
      ]
    },
    {
      "cell_type": "markdown",
      "source": [
        "## **Question 2**\n",
        "\n",
        "The current age (in years) of 400 clerical employees at an insurance claims processing center is normally distributed with mean  = 38 and Standard deviation  =6. For each statement below, please specify True/False. If false, briefly explain why.\n"
      ],
      "metadata": {
        "id": "XI2xpxuzf9ba"
      }
    },
    {
      "cell_type": "code",
      "source": [
        "# Q2\n",
        "mu=38\n",
        "std=6\n",
        "\n",
        "# for greater than 44\n",
        "x=44\n",
        "z_val=(x-mu)/std\n",
        "z_val\n",
        "p_val44=1-stats.norm.cdf(z_val)\n",
        "p_val44"
      ],
      "metadata": {
        "colab": {
          "base_uri": "https://localhost:8080/"
        },
        "id": "MwD4E4C5XuK_",
        "outputId": "3fe1648c-78af-49fb-cbe3-258ec9f59bdd"
      },
      "execution_count": null,
      "outputs": [
        {
          "output_type": "execute_result",
          "data": {
            "text/plain": [
              "0.15865525393145707"
            ]
          },
          "metadata": {},
          "execution_count": 16
        }
      ]
    },
    {
      "cell_type": "code",
      "source": [
        "# for between 38 t0 44\n",
        "x=38\n",
        "z_val=(x-mu)/std\n",
        "z_val\n",
        "p_val38t044=1-stats.norm.cdf(z_val)-p_val44\n",
        "p_val38t044"
      ],
      "metadata": {
        "colab": {
          "base_uri": "https://localhost:8080/"
        },
        "id": "L5EYAltmZ0J7",
        "outputId": "8b3c1c58-1c55-4fec-9acc-bf52fb443357"
      },
      "execution_count": null,
      "outputs": [
        {
          "output_type": "execute_result",
          "data": {
            "text/plain": [
              "0.3413447460685429"
            ]
          },
          "metadata": {},
          "execution_count": 18
        }
      ]
    },
    {
      "cell_type": "code",
      "source": [
        "x=38\n",
        "z_val=(x-mu)/std\n",
        "z_val\n",
        "p_val38=stats.norm.cdf(z_val)\n",
        "p_val38"
      ],
      "metadata": {
        "colab": {
          "base_uri": "https://localhost:8080/"
        },
        "id": "NhoinmABaSH-",
        "outputId": "ba2e3e4e-2e5d-40c2-9f1d-5d1c415c90bb"
      },
      "execution_count": null,
      "outputs": [
        {
          "output_type": "execute_result",
          "data": {
            "text/plain": [
              "0.5"
            ]
          },
          "metadata": {},
          "execution_count": 19
        }
      ]
    },
    {
      "cell_type": "code",
      "source": [
        "p_val44+p_val38t044==p_val38 #False , The probality of greater than 44 and between 38 to 44 are equal to probability of less than 38."
      ],
      "metadata": {
        "colab": {
          "base_uri": "https://localhost:8080/"
        },
        "id": "RJnX6PYaaVlE",
        "outputId": "fe95a335-ba93-4d28-c372-65ccfcaf48c9"
      },
      "execution_count": null,
      "outputs": [
        {
          "output_type": "execute_result",
          "data": {
            "text/plain": [
              "True"
            ]
          },
          "metadata": {},
          "execution_count": 20
        }
      ]
    },
    {
      "cell_type": "code",
      "source": [
        "# A training program for employees under the age of 30 at the center would be expected to attract about 36 employees\n",
        "x=30\n",
        "z_val=(x-mu)/std\n",
        "z_val\n",
        "p_val30=stats.norm.cdf(z_val)\n",
        "p_val30"
      ],
      "metadata": {
        "colab": {
          "base_uri": "https://localhost:8080/"
        },
        "id": "ZjpxOTQicVJW",
        "outputId": "cc296af2-b176-4ef8-fc9c-7673712d122b"
      },
      "execution_count": null,
      "outputs": [
        {
          "output_type": "execute_result",
          "data": {
            "text/plain": [
              "0.09121121972586788"
            ]
          },
          "metadata": {},
          "execution_count": 22
        }
      ]
    },
    {
      "cell_type": "code",
      "source": [
        "#The expected employes for training\n",
        "exp_emp=400*p_val30\n",
        "print('The expected employes for training : ',exp_emp)"
      ],
      "metadata": {
        "colab": {
          "base_uri": "https://localhost:8080/"
        },
        "id": "82EZGWkodjjv",
        "outputId": "8f35543c-7c30-4eaf-805e-02aca3f8ddb6"
      },
      "execution_count": null,
      "outputs": [
        {
          "output_type": "stream",
          "name": "stdout",
          "text": [
            "The expected employes for training :  36.484487890347154\n"
          ]
        }
      ]
    },
    {
      "cell_type": "markdown",
      "source": [
        "# Question 4\n",
        "Let X ~ N(100, 202). Find two values, a and b, symmetric about the mean, such that the probability of the random variable taking a value between them is 0.99."
      ],
      "metadata": {
        "id": "jWV7UBjbkkut"
      }
    },
    {
      "cell_type": "code",
      "source": [
        "# Given\n",
        "mew = 100\n",
        "std = 20\n",
        "# p(a<x<b)\n",
        "#To Find =\n",
        "\"\"\" two values, a and b, symmetric about the mean, such that the\n",
        "probability of the random variable taking a value between them is 0.99\"\"\"\n",
        "# Solution\n",
        "\"\"\" From the above details,we have to exclude .005% area from each\n",
        "left and right tails. Hence, we want to find the .005th and the\n",
        ".995th percentiles Z score values\"\"\"\n",
        "\n",
        "# Z value for .005 percentiles\n",
        "z_005_ = np.round(stats.norm.ppf(0.005),4)\n",
        "z_005_\n",
        "\n",
        "# Z value for .99 percentiles\n",
        "z_99_ = np.round(stats.norm.ppf(0.995),4)\n",
        "z_99_\n",
        "\n",
        "#z = (x_bar - mew) / std\n",
        "#x_bar = (z*std) + mew\n",
        "a = np.round((z_005_*std) + mew,1)\n",
        "b = np.round((z_99_*std) + mew,1)\n",
        "print(\"\"\"The two values of a and b, symmetric about the mean,\n",
        "      are such that the probability of the random variable\n",
        "      taking a value between them is 0.99:\"\"\",a,b)"
      ],
      "metadata": {
        "colab": {
          "base_uri": "https://localhost:8080/"
        },
        "id": "rHw9Vrjz6Ut0",
        "outputId": "32d92514-5ae4-47a8-9739-590b585c31bf"
      },
      "execution_count": null,
      "outputs": [
        {
          "output_type": "stream",
          "name": "stdout",
          "text": [
            "The two values of a and b, symmetric about the mean, \n",
            "      are such that the probability of the random variable \n",
            "      taking a value between them is 0.99: 48.5 151.5\n"
          ]
        }
      ]
    },
    {
      "cell_type": "markdown",
      "source": [
        "## **Question 5**\n",
        "Consider a company that has two different divisions. The annual profits from the two divisions are independent and have distributions Profit1 ~ N(5, 32) and Profit2 ~ N(7, 42) respectively. Both the profits are in $ Million. Answer the following questions about the total profit of the company in Rupees. Assume that $1 = Rs. 45"
      ],
      "metadata": {
        "id": "PNZkMKjS9QW2"
      }
    },
    {
      "cell_type": "code",
      "source": [
        "# Combine Mean Profit of both division for Company= mean1 + mean2\n",
        "mean1 = 5\n",
        "mean2 = 7\n",
        "Mean = (mean1+mean2) # 1 USD = 45 rupees\n",
        "print('The Mean Profit of both division:',Mean, 'Million$')\n",
        "print('The Mean Profit of both division:',(Mean*45)/10, 'Crore Rupees')\n",
        "\n",
        "# Combine standard Deviation = (Std1^2 + Std2^2)^1/2\n",
        "std1 = 3**2\n",
        "std2 = 4**2\n",
        "Std = np.sqrt(std1 + std2)\n",
        "print('The Standard Deviation of both division:', Std, 'Million$')\n",
        "print('The Standard Deviation of both division:', (Std*45)/10, 'Crore Rupees')"
      ],
      "metadata": {
        "colab": {
          "base_uri": "https://localhost:8080/"
        },
        "id": "6qCgptNY9a2b",
        "outputId": "89667241-15a8-46a4-8f8d-4c9fda8b19bc"
      },
      "execution_count": null,
      "outputs": [
        {
          "output_type": "stream",
          "name": "stdout",
          "text": [
            "The Mean Profit of both division: 12 Million$\n",
            "The Mean Profit of both division: 54.0 Crore Rupees\n",
            "The Standard Deviation of both division: 5.0 Million$\n",
            "The Standard Deviation of both division: 22.5 Crore Rupees\n"
          ]
        }
      ]
    },
    {
      "cell_type": "markdown",
      "source": [
        "**A.Specify a Rupee range (centered on the mean) such that it contains 95% probability for the annual profit of the company.**"
      ],
      "metadata": {
        "id": "qmNewzClArpI"
      }
    },
    {
      "cell_type": "code",
      "source": [
        "r1, r2 = np.round(stats.norm.interval(0.95, Mean, Std),2)\n",
        "print('Rupee Ranges from',r1,'to',r2,'Million$ in Annual profit of the Company 95% of the time')\n",
        "print('Rupee Ranges from',np.divide(np.multiply(r1,45),10),'to',np.divide(np.multiply(r2,45),10),'Crore Rupees in Annual profit of the Company 95% of the time')\n"
      ],
      "metadata": {
        "colab": {
          "base_uri": "https://localhost:8080/"
        },
        "id": "88UaVIfX_3Np",
        "outputId": "e685cb81-0052-4780-a40c-cd62ab303d00"
      },
      "execution_count": null,
      "outputs": [
        {
          "output_type": "stream",
          "name": "stdout",
          "text": [
            "Rupee Ranges from 2.2 to 21.8 Million$ in Annual profit of the Company 95% of the time\n",
            "Rupee Ranges from 9.900000000000002 to 98.1 Crore Rupees in Annual profit of the Company 95% of the time\n"
          ]
        }
      ]
    },
    {
      "cell_type": "markdown",
      "source": [
        "**B.\tSpecify the 5th percentile of profit (in Rupees) for the company**"
      ],
      "metadata": {
        "id": "QlDsizi3A1Nl"
      }
    },
    {
      "cell_type": "code",
      "source": [
        "# Z value  = X_bar - Mew / Std pop\n",
        "# for percentile, X_percentile = (Zvalue * Std pop) + Mew\n",
        "Z_05_ = stats.norm.ppf(0.05)\n",
        "Fifth_percentile = (Z_05_ * Std) + Mean\n",
        "print('The 5th percentile of Profit for the company is',np.round(Fifth_percentile,2),'Million$')\n",
        "print('The 5th percentile of Profit for the company is',np.round((Fifth_percentile*45)/10,),'Crore Rupees')"
      ],
      "metadata": {
        "colab": {
          "base_uri": "https://localhost:8080/"
        },
        "id": "5gkcC_p9ARnc",
        "outputId": "e1a76148-0b80-4af4-b06e-e7c6d7fde3e4"
      },
      "execution_count": null,
      "outputs": [
        {
          "output_type": "stream",
          "name": "stdout",
          "text": [
            "The 5th percentile of Profit for the company is 3.78 Million$\n",
            "The 5th percentile of Profit for the company is 17.0 Crore Rupees\n"
          ]
        }
      ]
    },
    {
      "cell_type": "markdown",
      "source": [
        "**C.\tWhich of the two divisions has a larger probability of making a loss in a given year?**"
      ],
      "metadata": {
        "id": "cYAiv6jGCOos"
      }
    },
    {
      "cell_type": "code",
      "source": [
        "# The probability of Division #1 making a loss\n",
        "print('The Probability of Division #1 making a loss is',np.round((stats.norm.cdf(0,5,3))*100,2),'%')\n",
        "\n",
        "# The probability of Division #2 making a loss\n",
        "print('The Probability of Division #2 making a loss is',np.round((stats.norm.cdf(0,7,4))*100,2),'%')\n",
        "\n",
        "Division_1 = (stats.norm.cdf(0,5,3))*100\n",
        "Division_2 = (stats.norm.cdf(0,7,4))*100\n",
        "\n",
        "if Division_1>Division_2:\n",
        "    print('The Division 1 has a larger Probability of making a loss')\n",
        "else:\n",
        "          print('The Division 2 has a larger Porbability of making a loss')"
      ],
      "metadata": {
        "colab": {
          "base_uri": "https://localhost:8080/"
        },
        "id": "V1ihwGpcBs4-",
        "outputId": "fdd1e094-775e-4368-a6a0-552ad3421b78"
      },
      "execution_count": null,
      "outputs": [
        {
          "output_type": "stream",
          "name": "stdout",
          "text": [
            "The Probability of Division #1 making a loss is 4.78 %\n",
            "The Probability of Division #2 making a loss is 4.01 %\n",
            "The Division 1 has a larger Probability of making a loss\n"
          ]
        }
      ]
    },
    {
      "cell_type": "code",
      "source": [],
      "metadata": {
        "id": "xpAW4tvUBt2I"
      },
      "execution_count": null,
      "outputs": []
    }
  ]
}